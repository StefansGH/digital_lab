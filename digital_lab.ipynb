{
 "cells": [
  {
   "cell_type": "code",
   "execution_count": 1,
   "metadata": {},
   "outputs": [
    {
     "data": {
      "text/html": [
       "<script>\n",
       "code_show=true; \n",
       "function code_toggle() {\n",
       " if (code_show){\n",
       " $('div.input').hide();\n",
       " } else {\n",
       " $('div.input').show();\n",
       " }\n",
       " code_show = !code_show\n",
       "} \n",
       "$( document ).ready(code_toggle);\n",
       "</script>\n",
       "<form action=\"javascript:code_toggle()\"><input type=\"submit\" value=\"Click here to toggle on/off the raw code.\"></form>"
      ],
      "text/plain": [
       "<IPython.core.display.HTML object>"
      ]
     },
     "execution_count": 1,
     "metadata": {},
     "output_type": "execute_result"
    }
   ],
   "source": [
    "import ipywidgets as widgets\n",
    "from IPython.display import display\n",
    "import numpy as np\n",
    "\n",
    "from IPython.display import HTML\n",
    "\n",
    "HTML('''<script>\n",
    "code_show=true; \n",
    "function code_toggle() {\n",
    " if (code_show){\n",
    " $('div.input').hide();\n",
    " } else {\n",
    " $('div.input').show();\n",
    " }\n",
    " code_show = !code_show\n",
    "} \n",
    "$( document ).ready(code_toggle);\n",
    "</script>\n",
    "<form action=\"javascript:code_toggle()\"><input type=\"submit\" value=\"Click here to toggle on/off the raw code.\"></form>''')"
   ]
  },
  {
   "cell_type": "markdown",
   "metadata": {},
   "source": [
    "# SmartProbes\n",
    "### Digital Lab: Nano Particle Synthesis\n",
    "This tool helps you to design nanoparticles with your prefered characteristics. Let's start!"
   ]
  },
  {
   "cell_type": "code",
   "execution_count": 2,
   "metadata": {},
   "outputs": [
    {
     "data": {
      "application/vnd.jupyter.widget-view+json": {
       "model_id": "83f86196ae6546698bf2cfcf3473283f",
       "version_major": 2,
       "version_minor": 0
      },
      "text/plain": [
       "Label(value='Design your experiment:')"
      ]
     },
     "metadata": {},
     "output_type": "display_data"
    },
    {
     "data": {
      "application/vnd.jupyter.widget-view+json": {
       "model_id": "c9fe4e5dfc3c4a0a921cb83091f70147",
       "version_major": 2,
       "version_minor": 0
      },
      "text/plain": [
       "FloatSlider(value=2.5, description='Seed:', max=8.2, min=0.3, readout_format='.1f')"
      ]
     },
     "metadata": {},
     "output_type": "display_data"
    },
    {
     "data": {
      "application/vnd.jupyter.widget-view+json": {
       "model_id": "fc4b888f9430407e82a5feb97aa7c37c",
       "version_major": 2,
       "version_minor": 0
      },
      "text/plain": [
       "FloatSlider(value=5.7, description='AgNO3:', max=16.4, min=0.7, readout_format='.1f')"
      ]
     },
     "metadata": {},
     "output_type": "display_data"
    },
    {
     "data": {
      "application/vnd.jupyter.widget-view+json": {
       "model_id": "f5ccd1c80e4b48c2a308e4dbe1895ab1",
       "version_major": 2,
       "version_minor": 0
      },
      "text/plain": [
       "FloatSlider(value=80.0, description='AA:', max=80.0, min=80.0, readout_format='.1f')"
      ]
     },
     "metadata": {},
     "output_type": "display_data"
    },
    {
     "data": {
      "application/vnd.jupyter.widget-view+json": {
       "model_id": "8e3dcae550aa4c71b1609ead343a1c69",
       "version_major": 2,
       "version_minor": 0
      },
      "text/plain": [
       "FloatSlider(value=1.5, description='HCl:', max=11.0, min=1e-05, readout_format='.1f')"
      ]
     },
     "metadata": {},
     "output_type": "display_data"
    },
    {
     "data": {
      "application/vnd.jupyter.widget-view+json": {
       "model_id": "dd080aa87aff4426bd25ff0f3b10ca8a",
       "version_major": 2,
       "version_minor": 0
      },
      "text/plain": [
       "Label(value='Expected Result Experiment:')"
      ]
     },
     "metadata": {},
     "output_type": "display_data"
    },
    {
     "data": {
      "application/vnd.jupyter.widget-view+json": {
       "model_id": "cbd6ece1e4264ec191bdb7e1dcd29438",
       "version_major": 2,
       "version_minor": 0
      },
      "text/plain": [
       "Output()"
      ]
     },
     "metadata": {},
     "output_type": "display_data"
    }
   ],
   "source": [
    "what = widgets.ToggleButtons(value='Let\\'s Experiment!',\n",
    "    options=['Give me a Recipe', 'Let\\'s Experiment!'],\n",
    "    disabled=True,\n",
    "    button_style='info', # 'success', 'info', 'warning', 'danger' or ''\n",
    ")\n",
    "\n",
    "seed = widgets.FloatSlider(value=2.5,\n",
    "    min=0.3,\n",
    "    max=8.2,\n",
    "    step=0.1,\n",
    "    description='Seed:',\n",
    "    readout=True,\n",
    "    readout_format='.1f')\n",
    "\n",
    "AgNO3 = widgets.FloatSlider(value=5.7,\n",
    "    min=0.7,\n",
    "    max=16.4,\n",
    "    step=0.1,\n",
    "    description='AgNO3:',\n",
    "    readout=True,\n",
    "    readout_format='.1f')\n",
    "\n",
    "AA = widgets.FloatSlider(value=80,\n",
    "    min=80.,\n",
    "    max=80.,\n",
    "    step=0.1,\n",
    "    description='AA:',\n",
    "    readout=True,\n",
    "    readout_format='.1f')\n",
    "\n",
    "HCl = widgets.FloatSlider(value=1.5,\n",
    "    min=0.00001,\n",
    "    max=11.0,\n",
    "    step=0.1,\n",
    "    description='HCl:',\n",
    "    readout=True,\n",
    "    readout_format='.1f')\n",
    "\n",
    "LSPR = widgets.IntSlider(value=750,\n",
    "    min=500,\n",
    "    max=1000,\n",
    "    step=10,\n",
    "    description='LSPR (nm):',\n",
    "    readout=True,\n",
    "    readout_format='d')\n",
    "\n",
    "LSPRTSPR = widgets.FloatSlider(value=3.,\n",
    "    min=1.,\n",
    "    max=6.,\n",
    "    step=.1,\n",
    "    description='LSPR/TSPR:',\n",
    "    readout=True,\n",
    "    readout_format='.1f')\n",
    "\n",
    "length = widgets.IntSlider(value=60,\n",
    "    min=40,\n",
    "    max=80,\n",
    "    step=1,\n",
    "    description='Length (nm):',\n",
    "    readout=True,\n",
    "    readout_format='d')\n",
    "\n",
    "width = widgets.IntSlider(value=25,\n",
    "    min=10,\n",
    "    max=40,\n",
    "    step=1,\n",
    "    description='Width (nm):',\n",
    "    readout=True,\n",
    "    readout_format='d')\n",
    "\n",
    "def aspect_ratio(l, w):\n",
    "    print('Aspect Ratio={}'.format(round(l/w, 2)))\n",
    "\n",
    "ar = widgets.interactive_output(aspect_ratio, {'l': length, 'w': width})\n",
    "\n",
    "materials = widgets.Label(value='Design your experiment:')\n",
    "\n",
    "#print('What would you like to do?')\n",
    "#display(what)\n",
    "\n",
    "result = widgets.Label(value='Expected Result Experiment:')\n",
    "\n",
    "def experiment_result(seed, AgNO3, AA, HCl):\n",
    "    print('LSPR (nm) = {}'.format(round(750+np.log(seed*AgNO3*HCl), 0)))\n",
    "    print('LSPR/TSPR = {}'.format(round(3.+np.log(seed*AgNO3*HCl), 1)))\n",
    "    print('Length (nm) = {}'.format(round(60+np.log(seed*AgNO3*HCl), 0)))\n",
    "    print('With (nm) = {}'.format(round(25+np.log(seed*AgNO3*HCl), 0)))\n",
    "\n",
    "result_experiment = widgets.interactive_output(experiment_result, {'seed':seed, 'AgNO3':AgNO3, 'AA':AA, 'HCl':HCl})\n",
    "\n",
    "\n",
    "if what.value=='Give me a Recipe':\n",
    "    display(LSPR)\n",
    "    display(LSPRTSPR)\n",
    "    display(length)\n",
    "    display(width)\n",
    "    display(ar)\n",
    "else:\n",
    "    display(materials)\n",
    "    display(seed)\n",
    "    display(AgNO3)\n",
    "    display(AA)\n",
    "    display(HCl)\n",
    "    display(result)\n",
    "    display(result_experiment)\n",
    "\n"
   ]
  },
  {
   "cell_type": "code",
   "execution_count": 3,
   "metadata": {
    "scrolled": true
   },
   "outputs": [
    {
     "name": "stdout",
     "output_type": "stream",
     "text": [
      "We appreciate your feedback! :)\n"
     ]
    },
    {
     "data": {
      "application/vnd.jupyter.widget-view+json": {
       "model_id": "c79b2ddf3d9f43f29aca4c5e11d76f16",
       "version_major": 2,
       "version_minor": 0
      },
      "text/plain": [
       "Text(value='Type here')"
      ]
     },
     "metadata": {},
     "output_type": "display_data"
    }
   ],
   "source": [
    "feedback = widgets.Text(value='Type here', disabled=False)\n",
    "print('We appreciate your feedback! :)')\n",
    "display(feedback)"
   ]
  }
 ],
 "metadata": {
  "kernelspec": {
   "display_name": "Python [conda env:p37] *",
   "language": "python",
   "name": "conda-env-p37-py"
  },
  "language_info": {
   "codemirror_mode": {
    "name": "ipython",
    "version": 3
   },
   "file_extension": ".py",
   "mimetype": "text/x-python",
   "name": "python",
   "nbconvert_exporter": "python",
   "pygments_lexer": "ipython3",
   "version": "3.7.9"
  }
 },
 "nbformat": 4,
 "nbformat_minor": 4
}
